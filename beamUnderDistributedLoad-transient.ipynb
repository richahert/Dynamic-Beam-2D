{
 "cells": [
  {
   "cell_type": "code",
   "execution_count": 1,
   "metadata": {},
   "outputs": [],
   "source": [
    "from fenics import *\n",
    "from ufl import nabla_div\n",
    "import numpy as np\n",
    "import matplotlib.pyplot as plt\n",
    "from fenicsadapter import *\n",
    "%matplotlib inline"
   ]
  },
  {
   "cell_type": "code",
   "execution_count": 2,
   "metadata": {},
   "outputs": [],
   "source": [
    "# Dimensionless Geometry and material properties\n",
    "d=2 #number of dimensions\n",
    "H = 1\n",
    "W = 0.3\n",
    "rho = 0.2\n",
    "E=1000.0\n",
    "nu= 0.3\n",
    "\n",
    "mu    = Constant(E / (2.0*(1.0 + nu)))\n",
    "\n",
    "lambda_ = Constant(E*nu / ((1.0 + nu)*(1.0 - 2.0*nu)))\n",
    "\n",
    "# create Mesh\n",
    "mesh = RectangleMesh(Point(0,0), Point(W,H), 3,10)\n",
    "\n",
    "#create Function Space\n",
    "V = VectorFunctionSpace(mesh, 'P', 2)\n",
    "\n",
    "#BCs\n",
    "tol=1E-14\n",
    "\n",
    "def clamped_boundary(x, on_boundary):\n",
    "    return on_boundary and abs(x[1])<tol\n",
    "\n",
    "def Neumann_Boundary(x,on_boundary):\n",
    "    return on_boundary and not(abs(x[1]<tol))"
   ]
  },
  {
   "cell_type": "code",
   "execution_count": null,
   "metadata": {},
   "outputs": [],
   "source": []
  },
  {
   "cell_type": "code",
   "execution_count": 3,
   "metadata": {},
   "outputs": [],
   "source": [
    "#alpha method parameters\n",
    "\n",
    "alpha_m = Constant(0.2)\n",
    "alpha_f = Constant(0.4)\n",
    "gamma   = Constant(0.5+alpha_f-alpha_m)\n",
    "beta    = Constant((gamma+0.5)**2/4.)"
   ]
  },
  {
   "cell_type": "code",
   "execution_count": 4,
   "metadata": {},
   "outputs": [],
   "source": [
    "#parameters for Time-Stepping\n",
    "T = 1.0\n",
    "Nsteps = 80\n",
    "dt = Constant(T/Nsteps)"
   ]
  },
  {
   "cell_type": "code",
   "execution_count": 5,
   "metadata": {},
   "outputs": [],
   "source": [
    "#Loading by an Expression: sinus loading dependend on x_0\n",
    "#p = Expression(('1*sin(2*pi*t) * x[0]','0'),degree=1, t=0)\n",
    "p = Expression( ('t<1 ? 0.01 : 0.01','0'),degree=1, t=0)"
   ]
  },
  {
   "cell_type": "code",
   "execution_count": 6,
   "metadata": {},
   "outputs": [],
   "source": [
    "# Trial and Test Functions\n",
    "du = TrialFunction(V)\n",
    "v = TestFunction(V)\n",
    "\n",
    "u = Function(V)\n",
    "\n",
    "# function known from previous timestep\n",
    "u_old = Function(V)\n",
    "v_old = Function(V)\n",
    "a_old = Function(V)"
   ]
  },
  {
   "cell_type": "code",
   "execution_count": 7,
   "metadata": {},
   "outputs": [],
   "source": [
    "# Maybe there should be some BCs here that i don't understand yet\n",
    "boundary_subdomains = MeshFunction(\"size_t\", \n",
    "                                   mesh, mesh.topology().dim()-1)\n",
    "boundary_subdomains.set_all(0)\n",
    "force_boundary = AutoSubDomain(Neumann_Boundary)\n",
    "force_boundary.mark(boundary_subdomains, 3)\n",
    "\n",
    "#Define measure for boundary conditions integral\n",
    "dss=ds(subdomain_data=boundary_subdomains)\n",
    "\n",
    "\n",
    "# clamp the beam at the bottom\n",
    "bc = DirichletBC(V, Constant((0,0)), clamped_boundary)\n"
   ]
  },
  {
   "cell_type": "code",
   "execution_count": null,
   "metadata": {},
   "outputs": [],
   "source": []
  },
  {
   "cell_type": "code",
   "execution_count": null,
   "metadata": {},
   "outputs": [],
   "source": []
  },
  {
   "cell_type": "code",
   "execution_count": 8,
   "metadata": {},
   "outputs": [],
   "source": [
    "#Define strain \n",
    "def epsilon(u):\n",
    "    return 0.5*(nabla_grad(u) + nabla_grad(u).T)\n",
    "\n",
    "# Define Stress tensor\n",
    "def sigma(u):\n",
    "    return lambda_*nabla_div(u)*Identity(d) + 2*mu*epsilon(u)\n",
    "\n",
    "# Define Mass form\n",
    "def m(u,v):\n",
    "    return rho*inner(u,v)*dx\n",
    "\n",
    "# Elastic stiffness form\n",
    "def k(u,v):\n",
    "    return inner(sigma(u), sym(grad(v))) * dx\n",
    "\n",
    "# External Work\n",
    "def Wext(u_):\n",
    "    return dot(u_,p)*dss(3)"
   ]
  },
  {
   "cell_type": "code",
   "execution_count": 9,
   "metadata": {},
   "outputs": [],
   "source": [
    "# Update functions\n",
    "\n",
    "# Update accelleration\n",
    "def update_a(u, u_old,v_old, a_old, ufl=True):\n",
    "    if ufl:\n",
    "        dt_=dt\n",
    "        beta_=beta\n",
    "    else:\n",
    "        dt_=float(dt)\n",
    "        beta_=float(beta)\n",
    "    \n",
    "    return ((u - u_old - dt_*v_old)/beta/dt_**2 \n",
    "            - (1-2*beta_)/2/beta_*a_old)\n",
    "\n",
    "# Update velocity\n",
    "def update_v(a,u_old,v_old,a_old, ufl = True):\n",
    "    if ufl:\n",
    "        dt_=dt\n",
    "        gamma_=gamma\n",
    "    else:\n",
    "        dt_=float(dt)\n",
    "        gamma_=float(gamma)\n",
    "    \n",
    "    return v_old + dt_*((1-gamma_)*a_old + gamma_*a)\n",
    "\n",
    "def update_fields(u, u_old, v_old, a_old):\n",
    "    '''Update all fields at the end of a timestep.'''\n",
    "    \n",
    "    u_vec, u0_vec = u.vector(), u_old.vector()\n",
    "    v0_vec, a0_vec = v_old.vector(), a_old.vector()\n",
    "    \n",
    "    #call update functions\n",
    "    a_vec = update_a(u_vec, u0_vec, v0_vec, a0_vec, ufl=False)\n",
    "    v_vec = update_v(a_vec, u0_vec, v0_vec, a0_vec, ufl=False)\n",
    "    \n",
    "    #assign u->u_old\n",
    "    v_old.vector()[:], a_old.vector()[:] = v_vec, a_vec\n",
    "    u_old.vector()[:] = u.vector()"
   ]
  },
  {
   "cell_type": "code",
   "execution_count": 10,
   "metadata": {},
   "outputs": [],
   "source": [
    "def avg(x_old, x_new, alpha):\n",
    "    return alpha*x_old + (1-alpha)*x_new\n",
    "\n",
    "# residual\n",
    "a_new = update_a(du, u_old, v_old, a_old, ufl=True)\n",
    "v_new = update_a(a_new, u_old, v_old, a_old, ufl=True)\n",
    "\n",
    "res = m(avg(a_old,a_new,alpha_m), v) \\\n",
    "+ k(avg(u_old,du, alpha_f), v) - Wext(v)\n",
    "\n",
    "a_form= lhs(res)\n",
    "L_form= rhs(res)\n"
   ]
  },
  {
   "cell_type": "code",
   "execution_count": 11,
   "metadata": {},
   "outputs": [],
   "source": [
    "#optional precomputation of LU decomposition of K"
   ]
  },
  {
   "cell_type": "code",
   "execution_count": 12,
   "metadata": {},
   "outputs": [],
   "source": [
    "# Prepare for time-stepping\n",
    "time = np.linspace(0,T,Nsteps+1)\n",
    "u_tip = np.zeros((Nsteps+1,1))\n",
    "E_ext = 0"
   ]
  },
  {
   "cell_type": "code",
   "execution_count": 13,
   "metadata": {},
   "outputs": [
    {
     "name": "stdout",
     "output_type": "stream",
     "text": [
      "Time: 0.0125\n",
      "Time: 0.025\n",
      "Time: 0.037500000000000006\n",
      "Time: 0.05\n",
      "Time: 0.0625\n",
      "Time: 0.07500000000000001\n",
      "Time: 0.08750000000000001\n",
      "Time: 0.1\n",
      "Time: 0.1125\n",
      "Time: 0.125\n",
      "Time: 0.1375\n",
      "Time: 0.15000000000000002\n",
      "Time: 0.1625\n",
      "Time: 0.17500000000000002\n",
      "Time: 0.1875\n",
      "Time: 0.2\n",
      "Time: 0.21250000000000002\n",
      "Time: 0.225\n",
      "Time: 0.23750000000000002\n",
      "Time: 0.25\n",
      "Time: 0.2625\n",
      "Time: 0.275\n",
      "Time: 0.28750000000000003\n",
      "Time: 0.30000000000000004\n",
      "Time: 0.3125\n",
      "Time: 0.325\n",
      "Time: 0.3375\n",
      "Time: 0.35000000000000003\n",
      "Time: 0.36250000000000004\n",
      "Time: 0.375\n",
      "Time: 0.3875\n",
      "Time: 0.4\n",
      "Time: 0.41250000000000003\n",
      "Time: 0.42500000000000004\n",
      "Time: 0.4375\n",
      "Time: 0.45\n",
      "Time: 0.4625\n",
      "Time: 0.47500000000000003\n",
      "Time: 0.48750000000000004\n",
      "Time: 0.5\n",
      "Time: 0.5125000000000001\n",
      "Time: 0.525\n",
      "Time: 0.5375\n",
      "Time: 0.55\n",
      "Time: 0.5625\n",
      "Time: 0.5750000000000001\n",
      "Time: 0.5875\n",
      "Time: 0.6000000000000001\n",
      "Time: 0.6125\n",
      "Time: 0.625\n",
      "Time: 0.6375000000000001\n",
      "Time: 0.65\n",
      "Time: 0.6625000000000001\n",
      "Time: 0.675\n",
      "Time: 0.6875\n",
      "Time: 0.7000000000000001\n",
      "Time: 0.7125\n",
      "Time: 0.7250000000000001\n",
      "Time: 0.7375\n",
      "Time: 0.75\n",
      "Time: 0.7625000000000001\n",
      "Time: 0.775\n",
      "Time: 0.7875000000000001\n",
      "Time: 0.8\n",
      "Time: 0.8125\n",
      "Time: 0.8250000000000001\n",
      "Time: 0.8375\n",
      "Time: 0.8500000000000001\n",
      "Time: 0.8625\n",
      "Time: 0.875\n",
      "Time: 0.8875000000000001\n",
      "Time: 0.9\n",
      "Time: 0.9125000000000001\n",
      "Time: 0.925\n",
      "Time: 0.9375\n",
      "Time: 0.9500000000000001\n",
      "Time: 0.9625\n",
      "Time: 0.9750000000000001\n",
      "Time: 0.9875\n",
      "Time: 1.0\n"
     ]
    }
   ],
   "source": [
    "#time loop\n",
    "for n in range(Nsteps):\n",
    "    \n",
    "    t=time[n+1]\n",
    "    print(\"Time:\",t)\n",
    "    \n",
    "    #evaluate Force field at alpha_f-average\n",
    "    p.t=t-float(alpha_f*dt)\n",
    "    \n",
    "    #solve for new displacements\n",
    "    solve(a_form==L_form, u, bc)\n",
    "    \n",
    "    update_fields(u, u_old, v_old, a_old)\n",
    "    \n",
    "    p.t=t\n",
    "    \n",
    "    u_tip[n+1] = u(0.1,1.)[0]\n",
    "    \n",
    "    \n",
    "    "
   ]
  },
  {
   "cell_type": "code",
   "execution_count": 14,
   "metadata": {},
   "outputs": [
    {
     "data": {
      "image/png": "[encoded data removed]",
      "text/plain": [
       "<Figure size 432x288 with 1 Axes>"
      ]
     },
     "metadata": {
      "needs_background": "light"
     },
     "output_type": "display_data"
    }
   ],
   "source": [
    "# Plot tip displacement evolution\n",
    "plt.figure()\n",
    "plt.plot(time, u_tip)\n",
    "plt.xlabel(\"Time\")\n",
    "plt.ylabel(\"Tip displacement\")\n",
    "plt.show()"
   ]
  },
  {
   "cell_type": "code",
   "execution_count": null,
   "metadata": {},
   "outputs": [],
   "source": []
  },
  {
   "cell_type": "code",
   "execution_count": null,
   "metadata": {},
   "outputs": [],
   "source": []
  },
  {
   "cell_type": "code",
   "execution_count": null,
   "metadata": {
    "scrolled": false
   },
   "outputs": [],
   "source": []
  },
  {
   "cell_type": "code",
   "execution_count": null,
   "metadata": {},
   "outputs": [],
   "source": []
  },
  {
   "cell_type": "code",
   "execution_count": null,
   "metadata": {},
   "outputs": [],
   "source": []
  },
  {
   "cell_type": "code",
   "execution_count": null,
   "metadata": {},
   "outputs": [],
   "source": []
  },
  {
   "cell_type": "code",
   "execution_count": null,
   "metadata": {},
   "outputs": [],
   "source": []
  }
 ],
 "metadata": {
  "kernelspec": {
   "display_name": "Python 3",
   "language": "python",
   "name": "python3"
  },
  "language_info": {
   "codemirror_mode": {
    "name": "ipython",
    "version": 3
   },
   "file_extension": ".py",
   "mimetype": "text/x-python",
   "name": "python",
   "nbconvert_exporter": "python",
   "pygments_lexer": "ipython3",
   "version": "3.6.7"
  }
 },
 "nbformat": 4,
 "nbformat_minor": 2
}
